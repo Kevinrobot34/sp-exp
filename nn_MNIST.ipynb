{
 "cells": [
  {
   "cell_type": "code",
   "execution_count": 1,
   "metadata": {
    "collapsed": true
   },
   "outputs": [],
   "source": [
    "import matplotlib.pylab as plt\n",
    "import numpy as np\n",
    "import torch\n",
    "from torch.autograd import Variable\n",
    "\n",
    "import torch.nn as nn\n",
    "import torchvision.datasets as dset\n",
    "import torchvision.transforms as transforms\n",
    "import torch.nn.functional as F\n",
    "import torch.optim as optim"
   ]
  },
  {
   "cell_type": "markdown",
   "metadata": {},
   "source": [
    "### MNISTサンプルのダウンロード"
   ]
  },
  {
   "cell_type": "code",
   "execution_count": 4,
   "metadata": {},
   "outputs": [
    {
     "name": "stdout",
     "output_type": "stream",
     "text": [
      "==>>> total trainning batch number: 60000\n",
      "==>>> total testing batch number: 10000\n"
     ]
    }
   ],
   "source": [
    "root = './data'\n",
    "download = False\n",
    "trans = transforms.Compose([transforms.ToTensor(),])# transforms.Normalize((0.5,), (1.0,))])\n",
    "train_set = dset.MNIST(root=root, train=True, transform=trans, download=download)\n",
    "test_set = dset.MNIST(root=root, train=False, transform=trans)\n",
    "\n",
    "batch_size = 1\n",
    "kwargs = {'num_workers': 1, 'pin_memory': True}\n",
    "train_loader = torch.utils.data.DataLoader(\n",
    "                 dataset=train_set,\n",
    "                 batch_size=batch_size,\n",
    "                 shuffle=True)\n",
    "                 #, **kwargs)\n",
    "test_loader = torch.utils.data.DataLoader(\n",
    "                dataset=test_set,\n",
    "                batch_size=batch_size,\n",
    "                shuffle=False)\n",
    "                #, **kwargs)\n",
    "\n",
    "print('==>>> total trainning batch number: {}'.format(len(train_loader)))\n",
    "print('==>>> total testing batch number: {}'.format(len(test_loader)))"
   ]
  },
  {
   "cell_type": "code",
   "execution_count": 5,
   "metadata": {},
   "outputs": [
    {
     "name": "stdout",
     "output_type": "stream",
     "text": [
      "torch.Size([1, 1, 28, 28])\n",
      "<class 'torch.FloatTensor'> torch.Size([28, 28])\n"
     ]
    },
    {
     "name": "stderr",
     "output_type": "stream",
     "text": [
      "/Users/Kevin/anaconda/lib/python3.6/site-packages/matplotlib/font_manager.py:1297: UserWarning: findfont: Font family ['Osaka'] not found. Falling back to DejaVu Sans\n",
      "  (prop.get_family(), self.defaultFamily[fontext]))\n"
     ]
    },
    {
     "data": {
      "image/png": "[encoded data removed]",
      "text/plain": [
       "<matplotlib.figure.Figure at 0x11564f2b0>"
      ]
     },
     "metadata": {},
     "output_type": "display_data"
    },
    {
     "name": "stdout",
     "output_type": "stream",
     "text": [
      "<class 'torch.LongTensor'> \n",
      " 2\n",
      "[torch.LongTensor of size 1]\n",
      "\n",
      "torch.Size([1, 1, 28, 28])\n",
      "<class 'torch.FloatTensor'> torch.Size([28, 28])\n"
     ]
    },
    {
     "data": {
      "image/png": "[encoded data removed]",
      "text/plain": [
       "<matplotlib.figure.Figure at 0x11560be48>"
      ]
     },
     "metadata": {},
     "output_type": "display_data"
    },
    {
     "name": "stdout",
     "output_type": "stream",
     "text": [
      "<class 'torch.LongTensor'> \n",
      " 3\n",
      "[torch.LongTensor of size 1]\n",
      "\n",
      "torch.Size([1, 1, 28, 28])\n",
      "<class 'torch.FloatTensor'> torch.Size([28, 28])\n"
     ]
    },
    {
     "data": {
      "image/png": "[encoded data removed]",
      "text/plain": [
       "<matplotlib.figure.Figure at 0x11c8e5208>"
      ]
     },
     "metadata": {},
     "output_type": "display_data"
    },
    {
     "name": "stdout",
     "output_type": "stream",
     "text": [
      "<class 'torch.LongTensor'> \n",
      " 6\n",
      "[torch.LongTensor of size 1]\n",
      "\n"
     ]
    }
   ],
   "source": [
    "i = 0\n",
    "#for batch_idx, (data, target) in enumerate(train_loader):\n",
    "    #print('batch_idx : ' + str(batch_idx))\n",
    "for (data, target) in train_loader:\n",
    "    print(data.shape)\n",
    "    \n",
    "    data = data.view(28, 28)\n",
    "    print(type(data), data.shape)\n",
    "    #print(data)\n",
    "    \n",
    "    # 描画については、０から のch03/mnist.pyも参照\n",
    "    plt.figure(figsize=(1, 1))\n",
    "    plt.imshow(data.numpy())#, cmap=cm.gray_r)\n",
    "    plt.show()\n",
    "    \n",
    "    print(type(target), target)\n",
    "    i = i + 1\n",
    "    if (i > 2):\n",
    "        break"
   ]
  },
  {
   "cell_type": "code",
   "execution_count": 4,
   "metadata": {
    "collapsed": true
   },
   "outputs": [],
   "source": [
    "# init parameters\n",
    "weight = Variable(torch.randn(28*28, 10), requires_grad=True)\n",
    "bias = Variable(torch.randn(10), requires_grad=True)\n",
    "lr = 0.001"
   ]
  },
  {
   "cell_type": "code",
   "execution_count": 5,
   "metadata": {
    "collapsed": true
   },
   "outputs": [],
   "source": [
    "for (input, target) in train_loader:\n",
    "    #print(input, target)\n",
    "    input, target = Variable(input), Variable(target)\n",
    "    input = input.view(-1, 28*28)\n",
    "\n",
    "    # 順伝播\n",
    "    output = F.log_softmax(input.mm(weight).add(bias))\n",
    "    loss = F.nll_loss(output, target)\n",
    "\n",
    "    # 逆伝播\n",
    "    loss.backward()\n",
    "\n",
    "    # weight, biasの更新\n",
    "    weight.data -= lr * weight.grad.data\n",
    "    bias.data -=  lr * bias.grad.data\n",
    "    \n",
    "    # weight, biasの勾配を0にする\n",
    "    weight.grad.data.zero_()\n",
    "    bias.grad.data.zero_()\n",
    "\n",
    "\n"
   ]
  },
  {
   "cell_type": "code",
   "execution_count": 6,
   "metadata": {
    "collapsed": true
   },
   "outputs": [],
   "source": [
    "correct =  0\n",
    "for (input, target) in test_loader:\n",
    "    input, target = Variable(input), Variable(target)\n",
    "    input = input.view(-1, 28*28)\n",
    "    output = F.log_softmax(input.mm(weight).add(bias))\n",
    "    pred = output.data.max(1)[1]\n",
    "    correct += pred.eq(target.data).sum()\n",
    "\n",
    "    \n",
    "accuracy = correct / len(test_loader)"
   ]
  },
  {
   "cell_type": "code",
   "execution_count": 7,
   "metadata": {},
   "outputs": [
    {
     "name": "stdout",
     "output_type": "stream",
     "text": [
      "num of train_data :  60000\n",
      "num of test_data  :  10000\n",
      "accuracy : 0.771\n",
      "7710 10000 0.771\n"
     ]
    }
   ],
   "source": [
    "print('num of train_data : ', len(train_loader))\n",
    "print('num of test_data  : ', len(test_loader))\n",
    "print('accuracy : ' + str(accuracy))\n",
    "print(correct, len(test_loader), accuracy)"
   ]
  },
  {
   "cell_type": "code",
   "execution_count": 8,
   "metadata": {},
   "outputs": [
    {
     "data": {
      "image/png": "[encoded data removed]",
      "text/plain": [
       "<matplotlib.figure.Figure at 0x11a4690f0>"
      ]
     },
     "metadata": {},
     "output_type": "display_data"
    },
    {
     "name": "stdout",
     "output_type": "stream",
     "text": [
      "ansewer : \n",
      " 7\n",
      "[torch.LongTensor of size 1]\n",
      "\n",
      "pred    : \n",
      " 7\n",
      "[torch.LongTensor of size 1]\n",
      "\n"
     ]
    },
    {
     "data": {
      "image/png": "[encoded data removed]",
      "text/plain": [
       "<matplotlib.figure.Figure at 0x11d8582b0>"
      ]
     },
     "metadata": {},
     "output_type": "display_data"
    },
    {
     "name": "stdout",
     "output_type": "stream",
     "text": [
      "ansewer : \n",
      " 2\n",
      "[torch.LongTensor of size 1]\n",
      "\n",
      "pred    : \n",
      " 2\n",
      "[torch.LongTensor of size 1]\n",
      "\n"
     ]
    },
    {
     "data": {
      "image/png": "[encoded data removed]",
      "text/plain": [
       "<matplotlib.figure.Figure at 0x11d8a3f60>"
      ]
     },
     "metadata": {},
     "output_type": "display_data"
    },
    {
     "name": "stdout",
     "output_type": "stream",
     "text": [
      "ansewer : \n",
      " 1\n",
      "[torch.LongTensor of size 1]\n",
      "\n",
      "pred    : \n",
      " 1\n",
      "[torch.LongTensor of size 1]\n",
      "\n"
     ]
    },
    {
     "data": {
      "image/png": "[encoded data removed]",
      "text/plain": [
       "<matplotlib.figure.Figure at 0x11a478438>"
      ]
     },
     "metadata": {},
     "output_type": "display_data"
    },
    {
     "name": "stdout",
     "output_type": "stream",
     "text": [
      "ansewer : \n",
      " 0\n",
      "[torch.LongTensor of size 1]\n",
      "\n",
      "pred    : \n",
      " 0\n",
      "[torch.LongTensor of size 1]\n",
      "\n"
     ]
    },
    {
     "data": {
      "image/png": "[encoded data removed]",
      "text/plain": [
       "<matplotlib.figure.Figure at 0x11d9ab2e8>"
      ]
     },
     "metadata": {},
     "output_type": "display_data"
    },
    {
     "name": "stdout",
     "output_type": "stream",
     "text": [
      "ansewer : \n",
      " 4\n",
      "[torch.LongTensor of size 1]\n",
      "\n",
      "pred    : \n",
      " 4\n",
      "[torch.LongTensor of size 1]\n",
      "\n"
     ]
    },
    {
     "data": {
      "image/png": "[encoded data removed]",
      "text/plain": [
       "<matplotlib.figure.Figure at 0x116d42b38>"
      ]
     },
     "metadata": {},
     "output_type": "display_data"
    },
    {
     "name": "stdout",
     "output_type": "stream",
     "text": [
      "ansewer : \n",
      " 1\n",
      "[torch.LongTensor of size 1]\n",
      "\n",
      "pred    : \n",
      " 1\n",
      "[torch.LongTensor of size 1]\n",
      "\n"
     ]
    },
    {
     "data": {
      "image/png": "[encoded data removed]",
      "text/plain": [
       "<matplotlib.figure.Figure at 0x11d8d2ac8>"
      ]
     },
     "metadata": {},
     "output_type": "display_data"
    },
    {
     "name": "stdout",
     "output_type": "stream",
     "text": [
      "ansewer : \n",
      " 4\n",
      "[torch.LongTensor of size 1]\n",
      "\n",
      "pred    : \n",
      " 4\n",
      "[torch.LongTensor of size 1]\n",
      "\n"
     ]
    },
    {
     "data": {
      "image/png": "[encoded data removed]",
      "text/plain": [
       "<matplotlib.figure.Figure at 0x11a39c278>"
      ]
     },
     "metadata": {},
     "output_type": "display_data"
    },
    {
     "name": "stdout",
     "output_type": "stream",
     "text": [
      "ansewer : \n",
      " 9\n",
      "[torch.LongTensor of size 1]\n",
      "\n",
      "pred    : \n",
      " 9\n",
      "[torch.LongTensor of size 1]\n",
      "\n"
     ]
    },
    {
     "data": {
      "image/png": "[encoded data removed]",
      "text/plain": [
       "<matplotlib.figure.Figure at 0x11a3fe128>"
      ]
     },
     "metadata": {},
     "output_type": "display_data"
    },
    {
     "name": "stdout",
     "output_type": "stream",
     "text": [
      "ansewer : \n",
      " 5\n",
      "[torch.LongTensor of size 1]\n",
      "\n",
      "pred    : \n",
      " 0\n",
      "[torch.LongTensor of size 1]\n",
      "\n"
     ]
    },
    {
     "data": {
      "image/png": "[encoded data removed]",
      "text/plain": [
       "<matplotlib.figure.Figure at 0x11a3ac4a8>"
      ]
     },
     "metadata": {},
     "output_type": "display_data"
    },
    {
     "name": "stdout",
     "output_type": "stream",
     "text": [
      "ansewer : \n",
      " 9\n",
      "[torch.LongTensor of size 1]\n",
      "\n",
      "pred    : \n",
      " 9\n",
      "[torch.LongTensor of size 1]\n",
      "\n"
     ]
    },
    {
     "data": {
      "image/png": "[encoded data removed]",
      "text/plain": [
       "<matplotlib.figure.Figure at 0x11d9b1860>"
      ]
     },
     "metadata": {},
     "output_type": "display_data"
    },
    {
     "name": "stdout",
     "output_type": "stream",
     "text": [
      "ansewer : \n",
      " 0\n",
      "[torch.LongTensor of size 1]\n",
      "\n",
      "pred    : \n",
      " 0\n",
      "[torch.LongTensor of size 1]\n",
      "\n"
     ]
    }
   ],
   "source": [
    "i = 0\n",
    "for (input, target) in test_loader:\n",
    "    img = input.view(28, 28)\n",
    "    ans = target\n",
    "    \n",
    "    input, target = Variable(input), Variable(target)\n",
    "    input = input.view(-1, 28*28)\n",
    "    output = F.log_softmax(input.mm(weight).add(bias))\n",
    "    pred = output.data.max(1)[1]\n",
    "    \n",
    "    correct += pred.eq(target.data).sum()\n",
    "    \n",
    "    plt.figure(figsize=(1, 1))\n",
    "    plt.imshow(img.numpy())#, cmap=cm.gray_r)\n",
    "    plt.show()\n",
    "    print('ansewer : ' + str(ans))\n",
    "    print('pred    : ' + str(pred))\n",
    "\n",
    "\n",
    "    i = i + 1\n",
    "    if (i>10):\n",
    "        break\n",
    "\n"
   ]
  },
  {
   "cell_type": "code",
   "execution_count": 9,
   "metadata": {
    "collapsed": true
   },
   "outputs": [],
   "source": [
    "output?"
   ]
  },
  {
   "cell_type": "code",
   "execution_count": null,
   "metadata": {
    "collapsed": true
   },
   "outputs": [],
   "source": []
  }
 ],
 "metadata": {
  "kernelspec": {
   "display_name": "Python 3",
   "language": "python",
   "name": "python3"
  },
  "language_info": {
   "codemirror_mode": {
    "name": "ipython",
    "version": 3
   },
   "file_extension": ".py",
   "mimetype": "text/x-python",
   "name": "python",
   "nbconvert_exporter": "python",
   "pygments_lexer": "ipython3",
   "version": "3.6.1"
  }
 },
 "nbformat": 4,
 "nbformat_minor": 2
}
