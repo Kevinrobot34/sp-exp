{
 "cells": [
  {
   "cell_type": "code",
   "execution_count": 102,
   "metadata": {},
   "outputs": [],
   "source": [
    "import os\n",
    "import glob\n",
    "import time\n",
    "import random\n",
    "\n",
    "import matplotlib.pylab as plt\n",
    "import numpy as np\n",
    "\n",
    "import torch\n",
    "from torch.autograd import Variable\n",
    "import torch.nn as nn\n",
    "import torchvision.datasets as dset\n",
    "import torchvision.transforms as transforms\n",
    "import torch.nn.functional as F\n",
    "import torch.optim as optim\n",
    "\n",
    "import matplotlib\n",
    "%matplotlib inline\n",
    "%config InlineBackend.figure_format='retina'\n",
    "plt.style.use('ggplot') \n",
    "\n",
    "#font = {'family':'Osaka'}\n",
    "font = {'family': 'IPAexGothic'}\n",
    "matplotlib.rc('font', **font)"
   ]
  },
  {
   "cell_type": "markdown",
   "metadata": {},
   "source": [
    "### Load datasets"
   ]
  },
  {
   "cell_type": "code",
   "execution_count": 2,
   "metadata": {
    "collapsed": true
   },
   "outputs": [],
   "source": [
    "num_train_data = 20000\n",
    "num_test_data = 10000\n",
    "len_img = 30\n",
    "particle_dict = {'gamma':int(1), 'mu+':int(2), 'mu-':2}"
   ]
  },
  {
   "cell_type": "code",
   "execution_count": 3,
   "metadata": {},
   "outputs": [
    {
     "name": "stdout",
     "output_type": "stream",
     "text": [
      "There are 30152 data-files.\n",
      " 2000 files for train_data have loaded.\n",
      " 4000 files for train_data have loaded.\n",
      " 6000 files for train_data have loaded.\n",
      " 8000 files for train_data have loaded.\n",
      "10000 files for train_data have loaded.\n",
      "12000 files for train_data have loaded.\n",
      "14000 files for train_data have loaded.\n",
      "16000 files for train_data have loaded.\n",
      "18000 files for train_data have loaded.\n",
      "20000 files for train_data have loaded.\n",
      " 2000 files for test_data have loaded.\n",
      " 4000 files for test_data have loaded.\n",
      " 6000 files for test_data have loaded.\n",
      " 8000 files for test_data have loaded.\n",
      "10000 files for test_data have loaded.\n",
      "Data-loading has finished!\n"
     ]
    }
   ],
   "source": [
    "t_start = time.time()\n",
    "\n",
    "data_files = glob.glob('/Users/Kevin/Dropbox/data_30x30/*/*')\n",
    "random.shuffle(data_files)\n",
    "print('There are {} data-files.'.format(len(data_files)))\n",
    "\n",
    "# Prepare np.ndarray\n",
    "train_data = np.empty((num_train_data, len_img, len_img), int)\n",
    "train_labels = np.empty((num_train_data,), int)\n",
    "test_data = np.empty((num_test_data, len_img, len_img), int)\n",
    "test_labels = np.empty((num_test_data,), int)\n",
    "\n",
    "# load train_data\n",
    "for n in range(num_train_data):\n",
    "    with open(data_files[n], 'r') as data_file:\n",
    "        lines = data_file.readlines()\n",
    "        for i in range(len_img):\n",
    "            for j in range(len_img):\n",
    "                train_data[[n], [i], [j]] = lines[i][j] \n",
    "        \n",
    "        train_labels[n] = particle_dict[lines[len_img]]\n",
    "        \n",
    "        \n",
    "    if (n+1) % 2000 == 0:\n",
    "        print('{:5d} files for train_data have loaded.'.format(n+1))\n",
    "\n",
    "# load test_data\n",
    "for n in range(num_test_data):\n",
    "    with open(data_files[n + num_train_data], 'r') as data_file:\n",
    "        lines = data_file.readlines()\n",
    "        for i in range(len_img):\n",
    "            for j in range(len_img):\n",
    "                test_data[[n], [i], [j]] = lines[i][j] \n",
    "        test_labels[n] = particle_dict[lines[len_img]]\n",
    "        \n",
    "    if (n+1) % 2000 == 0:\n",
    "        print('{:5d} files for test_data have loaded.'.format(n+1))\n",
    "\n",
    "\n",
    "train_data = np.array(train_data, dtype=\"float32\")\n",
    "train_labels = np.array(train_labels, dtype=\"int32\")\n",
    "\n",
    "test_data = np.array(test_data, dtype=\"float32\")\n",
    "test_labels = np.array(test_labels, dtype=\"int32\")\n",
    "\n",
    "t_end = time.time()\n",
    "print('Data-loading has finished!')"
   ]
  },
  {
   "cell_type": "code",
   "execution_count": 4,
   "metadata": {},
   "outputs": [
    {
     "name": "stdout",
     "output_type": "stream",
     "text": [
      "18000000\n",
      "(20000, 30, 30) float32\n"
     ]
    }
   ],
   "source": [
    "print(train_data.size)\n",
    "print(train_data.shape, train_data.dtype)"
   ]
  },
  {
   "cell_type": "code",
   "execution_count": 5,
   "metadata": {},
   "outputs": [
    {
     "name": "stdout",
     "output_type": "stream",
     "text": [
      "<class 'torch.FloatTensor'> torch.Size([20000, 30, 30])\n",
      "<class 'torch.IntTensor'> torch.Size([20000])\n"
     ]
    }
   ],
   "source": [
    "train_data_tensor = torch.from_numpy(train_data)\n",
    "train_labels_tensor = torch.from_numpy(train_labels)\n",
    "print(type(train_data_tensor), train_data_tensor.size())\n",
    "print(type(train_labels_tensor), train_labels_tensor.size())\n",
    "train_dataset = torch.utils.data.TensorDataset(train_data_tensor, train_labels_tensor)"
   ]
  },
  {
   "cell_type": "code",
   "execution_count": 6,
   "metadata": {},
   "outputs": [
    {
     "name": "stdout",
     "output_type": "stream",
     "text": [
      "<class 'torch.FloatTensor'> torch.Size([10000, 30, 30])\n",
      "<class 'torch.IntTensor'> torch.Size([10000])\n"
     ]
    }
   ],
   "source": [
    "test_data_tensor = torch.from_numpy(test_data)\n",
    "test_labels_tensor = torch.from_numpy(test_labels)\n",
    "print(type(test_data_tensor), test_data_tensor.size())\n",
    "print(type(test_labels_tensor), test_labels_tensor.size())\n",
    "test_dataset = torch.utils.data.TensorDataset(test_data_tensor, test_labels_tensor)"
   ]
  },
  {
   "cell_type": "code",
   "execution_count": 36,
   "metadata": {},
   "outputs": [
    {
     "name": "stdout",
     "output_type": "stream",
     "text": [
      "==>>> total trainning batch number: 4000\n",
      "==>>> total testing batch number: 2000\n"
     ]
    }
   ],
   "source": [
    "batch_size = 5\n",
    "#batch_size = 1\n",
    "train_loader = torch.utils.data.DataLoader(\n",
    "                 dataset=train_dataset,\n",
    "                 batch_size=batch_size,\n",
    "                 shuffle=True)\n",
    "test_loader = torch.utils.data.DataLoader(\n",
    "                dataset=test_dataset,\n",
    "                batch_size=batch_size,\n",
    "                shuffle=False)\n",
    "\n",
    "print('==>>> total trainning batch number: {}'.format(len(train_loader)))\n",
    "print('==>>> total testing batch number: {}'.format(len(test_loader)))"
   ]
  },
  {
   "cell_type": "code",
   "execution_count": 37,
   "metadata": {},
   "outputs": [
    {
     "name": "stderr",
     "output_type": "stream",
     "text": [
      "/Users/Kevin/anaconda/lib/python3.6/site-packages/matplotlib/font_manager.py:1297: UserWarning: findfont: Font family ['Osaka'] not found. Falling back to DejaVu Sans\n",
      "  (prop.get_family(), self.defaultFamily[fontext]))\n"
     ]
    },
    {
     "data": {
      "image/png": "[encoded data removed]",
      "text/plain": [
       "<matplotlib.figure.Figure at 0x11e407898>"
      ]
     },
     "metadata": {},
     "output_type": "display_data"
    }
   ],
   "source": [
    "# 画像例\n",
    "plt.figure(figsize=(8, 4))\n",
    "for i in range(2):\n",
    "    for images, labels in train_loader:\n",
    "        if labels[0] == i+1:\n",
    "            figure = images[0].view(30, 30)\n",
    "            plt.subplot(121+i)\n",
    "            plt.imshow(figure.numpy())#, cmap=cm.gray_r)\n",
    "            break\n",
    "plt.show()"
   ]
  },
  {
   "cell_type": "markdown",
   "metadata": {},
   "source": [
    "### Definition of the model\n",
    "* 微妙にネットワークと学習が間違っている説あり\n",
    " * ネットワークの出力が10のまま....."
   ]
  },
  {
   "cell_type": "code",
   "execution_count": 80,
   "metadata": {
    "collapsed": true
   },
   "outputs": [],
   "source": [
    "class Net(nn.Module):\n",
    " \n",
    "    def __init__(self):\n",
    "        super(Net, self).__init__()\n",
    "        # 1 input image channel, 6 output channels, 5x5 square convolution kernel\n",
    "        self.conv1 = nn.Conv2d(1, 6, 5)\n",
    "        self.conv2 = nn.Conv2d(6, 16, 4)\n",
    "        self.fc1   = nn.Linear(16 * 5 * 5, 120)  # an affine operation: y = Wx + b\n",
    "        self.fc2   = nn.Linear(120, 84)\n",
    "        self.fc3   = nn.Linear(84, 10)\n",
    "        #self.fc3   = nn.Linear(84, 2)\n",
    " \n",
    "    def forward(self, x):\n",
    "        # (1; 30, 30) -> (6; 26, 26) -> (6; 13, 13)\n",
    "        x = F.max_pool2d(F.relu(self.conv1(x)), (2, 2))  # Max pooling over a (2, 2) window\n",
    "        \n",
    "        # (6; 13, 13) -> (6; 10, 10) -> (16; 5, 5)\n",
    "        x = F.max_pool2d(F.relu(self.conv2(x)), 2)  # If the size is a square you can only specify a single number\n",
    "        \n",
    "        # (16; 5, 5) ->[16*5*5]\n",
    "        x = x.view(-1, self.num_flat_features(x))\n",
    "        \n",
    "        # [16*5*5] -> [120]\n",
    "        x = F.relu(self.fc1(x))\n",
    "        \n",
    "        # [120] -> [84]\n",
    "        x = F.relu(self.fc2(x))\n",
    "        \n",
    "        # [84] -> [10]\n",
    "        x = self.fc3(x)\n",
    "        return x\n",
    " \n",
    "    def num_flat_features(self, x):\n",
    "        size = x.size()[1:]  # all dimensions except the batch dimension\n",
    "        num_features = 1\n",
    "        for s in size:\n",
    "            num_features *= s\n",
    "        return num_features"
   ]
  },
  {
   "cell_type": "markdown",
   "metadata": {},
   "source": [
    "### Variables\n",
    "You must choose these values carefully."
   ]
  },
  {
   "cell_type": "code",
   "execution_count": 91,
   "metadata": {
    "collapsed": true
   },
   "outputs": [],
   "source": [
    "learning_rate = 0.001\n",
    "num_epochs = 5\n",
    "momentum = 0.9\n",
    "num_miss_checks = 20"
   ]
  },
  {
   "cell_type": "markdown",
   "metadata": {},
   "source": [
    "### Settings"
   ]
  },
  {
   "cell_type": "code",
   "execution_count": 92,
   "metadata": {
    "collapsed": true
   },
   "outputs": [],
   "source": [
    "net = Net()\n",
    "#print(net)"
   ]
  },
  {
   "cell_type": "code",
   "execution_count": 93,
   "metadata": {
    "collapsed": true
   },
   "outputs": [],
   "source": [
    "criterion = nn.CrossEntropyLoss()\n",
    "optimizer = optim.SGD(net.parameters(), lr=learning_rate, momentum = momentum)"
   ]
  },
  {
   "cell_type": "code",
   "execution_count": 94,
   "metadata": {},
   "outputs": [
    {
     "name": "stdout",
     "output_type": "stream",
     "text": [
      "10\n",
      "torch.Size([6, 1, 5, 5])\n"
     ]
    }
   ],
   "source": [
    "params = list(net.parameters())\n",
    "print(len(params))\n",
    "print(params[0].size())"
   ]
  },
  {
   "cell_type": "markdown",
   "metadata": {},
   "source": [
    "### Training the Network"
   ]
  },
  {
   "cell_type": "code",
   "execution_count": 95,
   "metadata": {},
   "outputs": [
    {
     "name": "stdout",
     "output_type": "stream",
     "text": [
      "torch.Size([5, 1, 30, 30]) <class 'torch.FloatTensor'>\n",
      "torch.Size([5]) <class 'torch.LongTensor'>\n"
     ]
    }
   ],
   "source": [
    "for i, data in enumerate(train_loader, 0):\n",
    "    inputs, labels = data\n",
    "    \n",
    "    inputs = inputs.view(5,1,30,30)\n",
    "    if i == 0:\n",
    "        print(inputs.size(), type(inputs))\n",
    "        print(labels.size(), type(labels))"
   ]
  },
  {
   "cell_type": "code",
   "execution_count": 96,
   "metadata": {
    "scrolled": false
   },
   "outputs": [
    {
     "name": "stdout",
     "output_type": "stream",
     "text": [
      "[1,  2000] loss: 0.279\n",
      "[1,  4000] loss: 0.027\n",
      "[2,  2000] loss: 0.011\n",
      "[2,  4000] loss: 0.006\n",
      "[3,  2000] loss: 0.005\n",
      "[3,  4000] loss: 0.003\n",
      "[4,  2000] loss: 0.003\n",
      "[4,  4000] loss: 0.002\n",
      "[5,  2000] loss: 0.001\n",
      "[5,  4000] loss: 0.002\n",
      "Finished Training\n",
      "Time for training : 69.97342300415039 sec\n"
     ]
    }
   ],
   "source": [
    "t_start = time.time()\n",
    "loss_fns = []\n",
    "\n",
    "for epoch in range(num_epochs):  # 全データを複数回(num_epoch回)学習させる\n",
    " \n",
    "    running_loss = 0.0\n",
    "    for i, data in enumerate(train_loader, 0):\n",
    "        # 入力を得る\n",
    "        inputs, labels = data\n",
    "        inputs = inputs.view(5,1,30,30)\n",
    " \n",
    "        # それらを Variable にラップする\n",
    "        inputs, labels = Variable(inputs), Variable(labels)\n",
    " \n",
    "        # parameter 勾配をゼロにする\n",
    "        optimizer.zero_grad()\n",
    " \n",
    "        # forward + backward + optimize\n",
    "        outputs = net(inputs)\n",
    "        #print(outputs)\n",
    "        loss = criterion(outputs, labels)\n",
    "        loss.backward()\n",
    "        optimizer.step()\n",
    " \n",
    "        # 統計表示\n",
    "        running_loss += loss.data[0]\n",
    "        if i % 2000 == 1999:    # 2000 ミニバッチ毎に出力\n",
    "            print('[%d, %5d] loss: %.3f' % (epoch+1, i+1, running_loss / 2000))\n",
    "            loss_fns.append(running_loss / 2000)\n",
    "            running_loss = 0.0\n",
    "\n",
    "print('Finished Training')\n",
    "\n",
    "t_end = time.time()\n",
    "print('Time for training : {} sec'.format(t_end - t_start))"
   ]
  },
  {
   "cell_type": "code",
   "execution_count": 103,
   "metadata": {},
   "outputs": [
    {
     "data": {
      "image/png": "[encoded data removed]",
      "text/plain": [
       "<matplotlib.figure.Figure at 0x11dc4ad68>"
      ]
     },
     "metadata": {
      "image/png": {
       "height": 266,
       "width": 395
      }
     },
     "output_type": "display_data"
    }
   ],
   "source": [
    "epochs = np.arange(1.0/2.0, 11.0/2.0, 1.0/2.0)\n",
    "epochs\n",
    "plt.plot(epochs, loss_fns)\n",
    "plt.xlabel('Epochs')\n",
    "plt.ylabel('Loss function')\n",
    "plt.show()"
   ]
  },
  {
   "cell_type": "markdown",
   "metadata": {},
   "source": [
    "### Testing the Network with test-data"
   ]
  },
  {
   "cell_type": "code",
   "execution_count": 98,
   "metadata": {
    "scrolled": false
   },
   "outputs": [
    {
     "name": "stdout",
     "output_type": "stream",
     "text": [
      "Accuracy of the network on the 10000 test images: 99.90 %\n"
     ]
    }
   ],
   "source": [
    "correct = 0\n",
    "total = 0\n",
    "\n",
    "for data in test_loader:\n",
    "    images, labels = data\n",
    "    images = images.view(5,1,30,30)\n",
    "    \n",
    "    # Accuracy Rate\n",
    "    outputs = net(Variable(images))\n",
    "    _, predicted = torch.max(outputs.data, 1) # torch.max(input, dim) : 全dim行毎に、maxを取りそのvalueとargのTensorを返す\n",
    "    total += labels.size(0)\n",
    "    correct += (predicted == labels).sum()\n",
    "    \n",
    "print('Accuracy of the network on the 10000 test images: %4.2lf %%' % (100 * correct / total))"
   ]
  },
  {
   "cell_type": "code",
   "execution_count": 99,
   "metadata": {},
   "outputs": [
    {
     "name": "stdout",
     "output_type": "stream",
     "text": [
      "9990 10000\n"
     ]
    }
   ],
   "source": [
    "print(correct, total)"
   ]
  },
  {
   "cell_type": "markdown",
   "metadata": {},
   "source": [
    "### Show images that were mistaken"
   ]
  },
  {
   "cell_type": "code",
   "execution_count": 100,
   "metadata": {},
   "outputs": [
    {
     "name": "stdout",
     "output_type": "stream",
     "text": [
      "Pred : 2  /  Ans : 1\n"
     ]
    },
    {
     "name": "stderr",
     "output_type": "stream",
     "text": [
      "/Users/Kevin/anaconda/lib/python3.6/site-packages/matplotlib/font_manager.py:1297: UserWarning: findfont: Font family ['Osaka'] not found. Falling back to DejaVu Sans\n",
      "  (prop.get_family(), self.defaultFamily[fontext]))\n"
     ]
    },
    {
     "data": {
      "image/png": "[encoded data removed]",
      "text/plain": [
       "<matplotlib.figure.Figure at 0x11dc3ff60>"
      ]
     },
     "metadata": {},
     "output_type": "display_data"
    },
    {
     "name": "stdout",
     "output_type": "stream",
     "text": [
      "---------------------------------------------\n",
      "Pred : 2  /  Ans : 1\n"
     ]
    },
    {
     "data": {
      "image/png": "[encoded data removed]",
      "text/plain": [
       "<matplotlib.figure.Figure at 0x10965be10>"
      ]
     },
     "metadata": {},
     "output_type": "display_data"
    },
    {
     "name": "stdout",
     "output_type": "stream",
     "text": [
      "---------------------------------------------\n",
      "Pred : 2  /  Ans : 1\n"
     ]
    },
    {
     "data": {
      "image/png": "[encoded data removed]",
      "text/plain": [
       "<matplotlib.figure.Figure at 0x1177caa20>"
      ]
     },
     "metadata": {},
     "output_type": "display_data"
    },
    {
     "name": "stdout",
     "output_type": "stream",
     "text": [
      "---------------------------------------------\n",
      "Pred : 2  /  Ans : 1\n"
     ]
    },
    {
     "data": {
      "image/png": "[encoded data removed]",
      "text/plain": [
       "<matplotlib.figure.Figure at 0x11de74358>"
      ]
     },
     "metadata": {},
     "output_type": "display_data"
    },
    {
     "name": "stdout",
     "output_type": "stream",
     "text": [
      "---------------------------------------------\n",
      "Pred : 2  /  Ans : 1\n"
     ]
    },
    {
     "data": {
      "image/png": "[encoded data removed]",
      "text/plain": [
       "<matplotlib.figure.Figure at 0x1175517f0>"
      ]
     },
     "metadata": {},
     "output_type": "display_data"
    },
    {
     "name": "stdout",
     "output_type": "stream",
     "text": [
      "---------------------------------------------\n",
      "Pred : 2  /  Ans : 1\n"
     ]
    },
    {
     "data": {
      "image/png": "[encoded data removed]",
      "text/plain": [
       "<matplotlib.figure.Figure at 0x11ddc6668>"
      ]
     },
     "metadata": {},
     "output_type": "display_data"
    },
    {
     "name": "stdout",
     "output_type": "stream",
     "text": [
      "---------------------------------------------\n",
      "Pred : 2  /  Ans : 1\n"
     ]
    },
    {
     "data": {
      "image/png": "[encoded data removed]",
      "text/plain": [
       "<matplotlib.figure.Figure at 0x117563080>"
      ]
     },
     "metadata": {},
     "output_type": "display_data"
    },
    {
     "name": "stdout",
     "output_type": "stream",
     "text": [
      "---------------------------------------------\n",
      "Pred : 2  /  Ans : 1\n"
     ]
    },
    {
     "data": {
      "image/png": "[encoded data removed]",
      "text/plain": [
       "<matplotlib.figure.Figure at 0x11e329780>"
      ]
     },
     "metadata": {},
     "output_type": "display_data"
    },
    {
     "name": "stdout",
     "output_type": "stream",
     "text": [
      "---------------------------------------------\n",
      "Pred : 2  /  Ans : 1\n"
     ]
    },
    {
     "data": {
      "image/png": "[encoded data removed]",
      "text/plain": [
       "<matplotlib.figure.Figure at 0x11e35d470>"
      ]
     },
     "metadata": {},
     "output_type": "display_data"
    },
    {
     "name": "stdout",
     "output_type": "stream",
     "text": [
      "---------------------------------------------\n",
      "Pred : 2  /  Ans : 1\n"
     ]
    },
    {
     "data": {
      "image/png": "[encoded data removed]",
      "text/plain": [
       "<matplotlib.figure.Figure at 0x11dc6c2b0>"
      ]
     },
     "metadata": {},
     "output_type": "display_data"
    },
    {
     "name": "stdout",
     "output_type": "stream",
     "text": [
      "---------------------------------------------\n"
     ]
    }
   ],
   "source": [
    "miss = 0\n",
    "for data in test_loader:\n",
    "    images, labels = data\n",
    "    images = images.view(5,1,30,30)\n",
    "    \n",
    "    # Accuracy Rate\n",
    "    outputs = net(Variable(images))\n",
    "    _, predicted = torch.max(outputs.data, 1)\n",
    "    \n",
    "    # 間違えた画像の表示\n",
    "    for j in range(len(images)):\n",
    "        if miss < num_miss_checks and predicted[j] != labels[j]:\n",
    "            print('Pred : {}  /  Ans : {}'.format(predicted[j], labels[j]))\n",
    "            figure = images[j].view(30, 30)\n",
    "            # 描画については、０から のch03/mnist.pyも参照\n",
    "            plt.figure(figsize=(1, 1))\n",
    "            plt.imshow(figure.numpy())#, cmap=cm.gray_r)\n",
    "            plt.show()\n",
    "            print('---------------------------------------------')\n",
    "            miss += 1"
   ]
  },
  {
   "cell_type": "code",
   "execution_count": null,
   "metadata": {
    "collapsed": true
   },
   "outputs": [],
   "source": []
  }
 ],
 "metadata": {
  "kernelspec": {
   "display_name": "Python 3",
   "language": "python",
   "name": "python3"
  },
  "language_info": {
   "codemirror_mode": {
    "name": "ipython",
    "version": 3
   },
   "file_extension": ".py",
   "mimetype": "text/x-python",
   "name": "python",
   "nbconvert_exporter": "python",
   "pygments_lexer": "ipython3",
   "version": "3.6.1"
  }
 },
 "nbformat": 4,
 "nbformat_minor": 2
}
