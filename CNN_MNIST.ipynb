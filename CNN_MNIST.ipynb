{
 "cells": [
  {
   "cell_type": "code",
   "execution_count": 22,
   "metadata": {
    "collapsed": true
   },
   "outputs": [],
   "source": [
    "import matplotlib.pylab as plt\n",
    "import numpy as np\n",
    "import time\n",
    "\n",
    "import torch\n",
    "from torch.autograd import Variable\n",
    "import torch.nn as nn\n",
    "import torchvision.datasets as dset\n",
    "import torchvision.transforms as transforms\n",
    "import torch.nn.functional as F\n",
    "import torch.optim as optim\n",
    "\n",
    "import matplotlib\n",
    "\n",
    "%matplotlib inline\n",
    "%config InlineBackend.figure_format='retina'\n",
    "plt.style.use('ggplot') \n",
    "\n",
    "#font = {'family':'Osaka'}\n",
    "font = {'family': 'IPAexGothic'}\n",
    "matplotlib.rc('font', **font)"
   ]
  },
  {
   "cell_type": "markdown",
   "metadata": {},
   "source": [
    "### Download MNIST-Samples"
   ]
  },
  {
   "cell_type": "code",
   "execution_count": 2,
   "metadata": {},
   "outputs": [
    {
     "name": "stdout",
     "output_type": "stream",
     "text": [
      "==>>> total trainning batch number: 12000\n",
      "==>>> total testing batch number: 2000\n"
     ]
    }
   ],
   "source": [
    "root = './data'\n",
    "download = False\n",
    "trans = transforms.Compose([transforms.ToTensor(),])# transforms.Normalize((0.5,), (1.0,))])\n",
    "train_set = dset.MNIST(root=root, train=True, transform=trans, download=download)\n",
    "test_set = dset.MNIST(root=root, train=False, transform=trans)\n",
    "#test_set = dset.MNIST(root=root, train=True, transform=trans)\n",
    "\n",
    "batch_size = 5\n",
    "kwargs = {'num_workers': 1, 'pin_memory': True}\n",
    "train_loader = torch.utils.data.DataLoader(\n",
    "                 dataset=train_set,\n",
    "                 batch_size=batch_size,\n",
    "                 shuffle=True)\n",
    "                 #, **kwargs)\n",
    "test_loader = torch.utils.data.DataLoader(\n",
    "                dataset=test_set,\n",
    "                batch_size=batch_size,\n",
    "                shuffle=False)\n",
    "                #, **kwargs)\n",
    "\n",
    "print('==>>> total trainning batch number: {}'.format(len(train_loader)))\n",
    "print('==>>> total testing batch number: {}'.format(len(test_loader)))"
   ]
  },
  {
   "cell_type": "code",
   "execution_count": 3,
   "metadata": {},
   "outputs": [
    {
     "name": "stdout",
     "output_type": "stream",
     "text": [
      "torch.Size([60000, 28, 28])\n"
     ]
    }
   ],
   "source": [
    "print(train_set.train_data.size())"
   ]
  },
  {
   "cell_type": "markdown",
   "metadata": {},
   "source": [
    "### Definition of the model"
   ]
  },
  {
   "cell_type": "code",
   "execution_count": 4,
   "metadata": {
    "collapsed": true
   },
   "outputs": [],
   "source": [
    "class Net(nn.Module):\n",
    " \n",
    "    def __init__(self):\n",
    "        super(Net, self).__init__()\n",
    "        # 1 input image channel, 6 output channels, 5x5 square convolution kernel\n",
    "        self.conv1 = nn.Conv2d(1, 6, 5)\n",
    "        self.conv2 = nn.Conv2d(6, 16, 3)\n",
    "        self.fc1   = nn.Linear(16 * 5 * 5, 120)  # an affine operation: y = Wx + b\n",
    "        self.fc2   = nn.Linear(120, 84)\n",
    "        self.fc3   = nn.Linear(84, 10)\n",
    " \n",
    "    def forward(self, x):\n",
    "        # (1; 28, 28) -> (6; 24, 24) -> (6; 12, 12)\n",
    "        x = F.max_pool2d(F.relu(self.conv1(x)), (2, 2))  # Max pooling over a (2, 2) window\n",
    "        \n",
    "        # (6; 12, 12) -> (6; 10, 10) -> (16; 5, 5)\n",
    "        x = F.max_pool2d(F.relu(self.conv2(x)), 2)  # If the size is a square you can only specify a single number\n",
    "        \n",
    "        # (16; 5, 5) ->[16*5*5]\n",
    "        x = x.view(-1, self.num_flat_features(x))\n",
    "        \n",
    "        # [16*5*5] -> [120]\n",
    "        x = F.relu(self.fc1(x))\n",
    "        \n",
    "        # [120] -> [84]\n",
    "        x = F.relu(self.fc2(x))\n",
    "        \n",
    "        # [84] -> [10]\n",
    "        x = self.fc3(x)\n",
    "        return x\n",
    " \n",
    "    def num_flat_features(self, x):\n",
    "        size = x.size()[1:]  # all dimensions except the batch dimension\n",
    "        num_features = 1\n",
    "        for s in size:\n",
    "            num_features *= s\n",
    "        return num_features"
   ]
  },
  {
   "cell_type": "markdown",
   "metadata": {},
   "source": [
    "### Variables\n",
    "You must choose these values carefully."
   ]
  },
  {
   "cell_type": "code",
   "execution_count": 5,
   "metadata": {
    "collapsed": true
   },
   "outputs": [],
   "source": [
    "learning_rate = 0.001\n",
    "num_epochs = 5\n",
    "momentum = 0.9\n",
    "num_miss_checks = 5"
   ]
  },
  {
   "cell_type": "markdown",
   "metadata": {},
   "source": [
    "### Settings"
   ]
  },
  {
   "cell_type": "code",
   "execution_count": 6,
   "metadata": {
    "collapsed": true
   },
   "outputs": [],
   "source": [
    "net = Net()\n",
    "#print(net)"
   ]
  },
  {
   "cell_type": "code",
   "execution_count": 7,
   "metadata": {
    "collapsed": true
   },
   "outputs": [],
   "source": [
    "criterion = nn.CrossEntropyLoss()\n",
    "optimizer = optim.SGD(net.parameters(), lr=learning_rate, momentum = momentum)"
   ]
  },
  {
   "cell_type": "code",
   "execution_count": 8,
   "metadata": {},
   "outputs": [
    {
     "name": "stdout",
     "output_type": "stream",
     "text": [
      "10\n",
      "torch.Size([6, 1, 5, 5])\n"
     ]
    }
   ],
   "source": [
    "params = list(net.parameters())\n",
    "print(len(params))\n",
    "print(params[0].size())"
   ]
  },
  {
   "cell_type": "markdown",
   "metadata": {},
   "source": [
    "### Training the Network"
   ]
  },
  {
   "cell_type": "code",
   "execution_count": 12,
   "metadata": {},
   "outputs": [
    {
     "data": {
      "text/plain": [
       "[1, 3, 2]"
      ]
     },
     "execution_count": 12,
     "metadata": {},
     "output_type": "execute_result"
    }
   ],
   "source": [
    "a = []\n",
    "a.append(1)\n",
    "a.append(3)\n",
    "a.append(2)\n",
    "a"
   ]
  },
  {
   "cell_type": "code",
   "execution_count": 17,
   "metadata": {
    "scrolled": false
   },
   "outputs": [
    {
     "name": "stdout",
     "output_type": "stream",
     "text": [
      "[1,  2000] loss: 1.708\n",
      "[1,  4000] loss: 0.380\n",
      "[1,  6000] loss: 0.195\n",
      "[1,  8000] loss: 0.134\n",
      "[1, 10000] loss: 0.126\n",
      "[1, 12000] loss: 0.099\n",
      "[2,  2000] loss: 0.082\n",
      "[2,  4000] loss: 0.087\n",
      "[2,  6000] loss: 0.076\n",
      "[2,  8000] loss: 0.080\n",
      "[2, 10000] loss: 0.068\n",
      "[2, 12000] loss: 0.061\n",
      "[3,  2000] loss: 0.059\n",
      "[3,  4000] loss: 0.063\n",
      "[3,  6000] loss: 0.052\n",
      "[3,  8000] loss: 0.048\n",
      "[3, 10000] loss: 0.049\n",
      "[3, 12000] loss: 0.055\n",
      "[4,  2000] loss: 0.040\n",
      "[4,  4000] loss: 0.039\n",
      "[4,  6000] loss: 0.048\n",
      "[4,  8000] loss: 0.042\n",
      "[4, 10000] loss: 0.038\n",
      "[4, 12000] loss: 0.041\n",
      "[5,  2000] loss: 0.030\n",
      "[5,  4000] loss: 0.036\n",
      "[5,  6000] loss: 0.033\n",
      "[5,  8000] loss: 0.034\n",
      "[5, 10000] loss: 0.036\n",
      "[5, 12000] loss: 0.028\n",
      "Finished Training\n",
      "Time for training : 217.05692315101624 sec\n"
     ]
    }
   ],
   "source": [
    "t_start = time.time()\n",
    "loss_fns = []\n",
    "\n",
    "for epoch in range(num_epochs):  # データセットに渡り複数回ループ\n",
    " \n",
    "    running_loss = 0.0\n",
    "    for i, data in enumerate(train_loader, 0):\n",
    "        # 入力を得る\n",
    "        inputs, labels = data\n",
    " \n",
    "        # それらを Variable にラップする\n",
    "        inputs, labels = Variable(inputs), Variable(labels)\n",
    " \n",
    "        # parameter 勾配をゼロにする\n",
    "        optimizer.zero_grad()\n",
    " \n",
    "        # forward + backward + optimize\n",
    "        outputs = net(inputs)\n",
    "        loss = criterion(outputs, labels)\n",
    "        loss.backward()\n",
    "        optimizer.step()\n",
    " \n",
    "        # 統計表示\n",
    "        running_loss += loss.data[0]\n",
    "        if i % 2000 == 1999:    # 2000 ミニバッチ毎に出力\n",
    "            print('[%d, %5d] loss: %.3f' % (epoch+1, i+1, running_loss / 2000))\n",
    "            loss_fns.append(running_loss / 2000)\n",
    "            running_loss = 0.0\n",
    "\n",
    "print('Finished Training')\n",
    "\n",
    "t_end = time.time()\n",
    "\n",
    "print('Time for training : {} sec'.format(t_end - t_start))"
   ]
  },
  {
   "cell_type": "code",
   "execution_count": 24,
   "metadata": {},
   "outputs": [
    {
     "data": {
      "image/png": "[encoded data removed]",
      "text/plain": [
       "<matplotlib.figure.Figure at 0x11db35358>"
      ]
     },
     "metadata": {
      "image/png": {
       "height": 266,
       "width": 395
      }
     },
     "output_type": "display_data"
    }
   ],
   "source": [
    "epochs = np.arange(1.0/6.0, 31.0/6.0, 1.0/6.0)\n",
    "epochs\n",
    "plt.plot(epochs, loss_fns)\n",
    "plt.xlabel('Epochs')\n",
    "plt.ylabel('Loss function')\n",
    "plt.show()"
   ]
  },
  {
   "cell_type": "markdown",
   "metadata": {},
   "source": [
    "### Testing the Network with test-data"
   ]
  },
  {
   "cell_type": "code",
   "execution_count": 25,
   "metadata": {
    "scrolled": false
   },
   "outputs": [
    {
     "name": "stdout",
     "output_type": "stream",
     "text": [
      "Accuracy of the network on the 10000 test images: 98.77 %\n"
     ]
    }
   ],
   "source": [
    "correct = 0\n",
    "total = 0\n",
    "\n",
    "for data in test_loader:\n",
    "    images, labels = data\n",
    "    \n",
    "    # Accuracy Rate\n",
    "    outputs = net(Variable(images))\n",
    "    _, predicted = torch.max(outputs.data, 1) # torch.max(input, dim) : 全dim行毎に、maxを取りそのvalueとargのTensorを返す\n",
    "    total += labels.size(0)\n",
    "    correct += (predicted == labels).sum()\n",
    "    \n",
    "print('Accuracy of the network on the 10000 test images: %4.2lf %%' % (100 * correct / total))"
   ]
  },
  {
   "cell_type": "code",
   "execution_count": 26,
   "metadata": {},
   "outputs": [
    {
     "name": "stdout",
     "output_type": "stream",
     "text": [
      "9877 10000\n"
     ]
    }
   ],
   "source": [
    "print(correct, total)"
   ]
  },
  {
   "cell_type": "markdown",
   "metadata": {},
   "source": [
    "### Show images that were mistaken"
   ]
  },
  {
   "cell_type": "code",
   "execution_count": 27,
   "metadata": {},
   "outputs": [
    {
     "name": "stdout",
     "output_type": "stream",
     "text": [
      "Pred : 2  /  Ans : 4\n"
     ]
    },
    {
     "data": {
      "image/png": "[encoded data removed]",
      "text/plain": [
       "<matplotlib.figure.Figure at 0x11df1bf28>"
      ]
     },
     "metadata": {
      "image/png": {
       "height": 88,
       "width": 90
      }
     },
     "output_type": "display_data"
    },
    {
     "name": "stdout",
     "output_type": "stream",
     "text": [
      "---------------------------------------------\n",
      "Pred : 8  /  Ans : 9\n"
     ]
    },
    {
     "data": {
      "image/png": "[encoded data removed]",
      "text/plain": [
       "<matplotlib.figure.Figure at 0x11e176ac8>"
      ]
     },
     "metadata": {
      "image/png": {
       "height": 88,
       "width": 90
      }
     },
     "output_type": "display_data"
    },
    {
     "name": "stdout",
     "output_type": "stream",
     "text": [
      "---------------------------------------------\n",
      "Pred : 0  /  Ans : 6\n"
     ]
    },
    {
     "data": {
      "image/png": "[encoded data removed]",
      "text/plain": [
       "<matplotlib.figure.Figure at 0x11e1a97f0>"
      ]
     },
     "metadata": {
      "image/png": {
       "height": 88,
       "width": 90
      }
     },
     "output_type": "display_data"
    },
    {
     "name": "stdout",
     "output_type": "stream",
     "text": [
      "---------------------------------------------\n",
      "Pred : 5  /  Ans : 3\n"
     ]
    },
    {
     "data": {
      "image/png": "[encoded data removed]",
      "text/plain": [
       "<matplotlib.figure.Figure at 0x11e2315f8>"
      ]
     },
     "metadata": {
      "image/png": {
       "height": 88,
       "width": 90
      }
     },
     "output_type": "display_data"
    },
    {
     "name": "stdout",
     "output_type": "stream",
     "text": [
      "---------------------------------------------\n",
      "Pred : 8  /  Ans : 4\n"
     ]
    },
    {
     "data": {
      "image/png": "[encoded data removed]",
      "text/plain": [
       "<matplotlib.figure.Figure at 0x11e2ac320>"
      ]
     },
     "metadata": {
      "image/png": {
       "height": 88,
       "width": 90
      }
     },
     "output_type": "display_data"
    },
    {
     "name": "stdout",
     "output_type": "stream",
     "text": [
      "---------------------------------------------\n"
     ]
    }
   ],
   "source": [
    "miss = 0\n",
    "for data in test_loader:\n",
    "    images, labels = data\n",
    "    \n",
    "    outputs = net(Variable(images))\n",
    "    _, predicted = torch.max(outputs.data, 1) # torch.max(input, dim) : 全dim行毎に、maxを取りそのvalueとargのTensorを返す\n",
    "    \n",
    "    # 間違えた画像の表示\n",
    "    for j in range(len(images)):\n",
    "        if miss < num_miss_checks and predicted[j] != labels[j]:\n",
    "            print('Pred : {}  /  Ans : {}'.format(predicted[j], labels[j]))\n",
    "            figure = images[j].view(28, 28)\n",
    "            # 描画については、０から のch03/mnist.pyも参照\n",
    "            plt.figure(figsize=(1, 1))\n",
    "            plt.imshow(figure.numpy())#, cmap=cm.gray_r)\n",
    "            plt.show()\n",
    "            print('---------------------------------------------')\n",
    "            miss += 1"
   ]
  },
  {
   "cell_type": "code",
   "execution_count": 28,
   "metadata": {},
   "outputs": [
    {
     "name": "stdout",
     "output_type": "stream",
     "text": [
      "<class 'torch.utils.data.dataloader.DataLoader'>\n"
     ]
    }
   ],
   "source": [
    "print(type(train_loader))"
   ]
  },
  {
   "cell_type": "code",
   "execution_count": 29,
   "metadata": {},
   "outputs": [
    {
     "name": "stdout",
     "output_type": "stream",
     "text": [
      "torch.Size([5, 1, 28, 28]) <class 'torch.FloatTensor'>\n",
      "torch.Size([5]) <class 'torch.FloatTensor'>\n"
     ]
    }
   ],
   "source": [
    "for i, data in enumerate(train_loader, 0):\n",
    "    inputs, labels = data\n",
    "    if i == 0:\n",
    "        print(inputs.size(), type(inputs))\n",
    "        print(labels.size(), type(inputs))"
   ]
  },
  {
   "cell_type": "code",
   "execution_count": 30,
   "metadata": {},
   "outputs": [
    {
     "name": "stdout",
     "output_type": "stream",
     "text": [
      "torch.Size([60000, 28, 28]) <class 'torch.ByteTensor'>\n"
     ]
    }
   ],
   "source": [
    "print(train_set.train_data.size(), type(train_set.train_data))"
   ]
  },
  {
   "cell_type": "code",
   "execution_count": null,
   "metadata": {
    "collapsed": true
   },
   "outputs": [],
   "source": []
  },
  {
   "cell_type": "code",
   "execution_count": null,
   "metadata": {
    "collapsed": true
   },
   "outputs": [],
   "source": []
  }
 ],
 "metadata": {
  "kernelspec": {
   "display_name": "Python 3",
   "language": "python",
   "name": "python3"
  },
  "language_info": {
   "codemirror_mode": {
    "name": "ipython",
    "version": 3
   },
   "file_extension": ".py",
   "mimetype": "text/x-python",
   "name": "python",
   "nbconvert_exporter": "python",
   "pygments_lexer": "ipython3",
   "version": "3.6.1"
  }
 },
 "nbformat": 4,
 "nbformat_minor": 2
}
